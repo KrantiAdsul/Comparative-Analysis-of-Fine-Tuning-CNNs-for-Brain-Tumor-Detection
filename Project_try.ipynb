{
 "cells": [
  {
   "cell_type": "code",
   "execution_count": 17,
   "id": "60f05678",
   "metadata": {},
   "outputs": [],
   "source": [
    "import numpy as np\n",
    "import pandas as pd\n",
    "from tensorflow.keras.preprocessing.image import ImageDataGenerator\n",
    "import tensorflow as tf\n",
    "from tensorflow.keras.models import Sequential\n",
    "from tensorflow.keras.layers import Conv2D, MaxPooling2D, Flatten, Dense, Dropout\n",
    "from tensorflow.keras.preprocessing.image import load_img"
   ]
  },
  {
   "cell_type": "code",
   "execution_count": 18,
   "id": "bf65c9fe",
   "metadata": {},
   "outputs": [
    {
     "name": "stdout",
     "output_type": "stream",
     "text": [
      "(512, 512)\n",
      "RGB\n"
     ]
    }
   ],
   "source": [
    "img = load_img('C:/Users/Kranti/Desktop/EE541_project/archive/Training/tumor/Tr-gl_0011.jpg')\n",
    "size=img.size\n",
    "print(size)\n",
    "mode = img.mode\n",
    "print(mode)"
   ]
  },
  {
   "cell_type": "code",
   "execution_count": 19,
   "id": "bd9ee400",
   "metadata": {},
   "outputs": [
    {
     "name": "stdout",
     "output_type": "stream",
     "text": [
      "Found 5712 images belonging to 2 classes.\n"
     ]
    }
   ],
   "source": [
    "train_datagen = ImageDataGenerator(rescale=1.0/255)\n",
    "train_generator = train_datagen.flow_from_directory('C:/Users/Kranti/Desktop/EE541_project/archive/Training/', batch_size =200, target_size=(215,215), class_mode='categorical', classes =['notumor','tumor'])"
   ]
  },
  {
   "cell_type": "code",
   "execution_count": 20,
   "id": "eb29528f",
   "metadata": {},
   "outputs": [
    {
     "name": "stdout",
     "output_type": "stream",
     "text": [
      "Found 1311 images belonging to 2 classes.\n"
     ]
    }
   ],
   "source": [
    "test_datagen = ImageDataGenerator(rescale=1.0/255)\n",
    "test_generator = test_datagen.flow_from_directory('C:/Users/Kranti/Desktop/EE541_project/archive/Testing/', batch_size =200, target_size=(215,215), class_mode='categorical', classes =['notumor','tumor'])"
   ]
  },
  {
   "cell_type": "code",
   "execution_count": 21,
   "id": "bcd303ed",
   "metadata": {},
   "outputs": [],
   "source": [
    "#define VGG-16 model\n",
    "def vgg16_model(input_shape, num_classes):\n",
    "    model = Sequential()\n",
    "    model.add(Conv2D(64, kernel_size=(3,3), activation='tanh', padding=\"same\", input_shape=input_shape))\n",
    "    model.add(Conv2D(64, kernel_size=(3,3), activation='tanh', padding=\"same\"))\n",
    "    model.add(MaxPooling2D(pool_size=(2,2), strides=(2,2)))\n",
    "    \n",
    "    model.add(Conv2D(128, kernel_size=(3,3), activation='tanh', padding=\"same\"))\n",
    "    model.add(Conv2D(128, kernel_size=(3,3), activation='tanh', padding=\"same\"))\n",
    "    model.add(MaxPooling2D(pool_size=(2,2), strides=(2,2)))\n",
    "    \n",
    "    model.add(Conv2D(256, kernel_size=(3,3), activation='tanh', padding=\"same\"))\n",
    "    model.add(Conv2D(256, kernel_size=(3,3), activation='tanh', padding=\"same\"))\n",
    "    model.add(Conv2D(256, kernel_size=(3,3), activation='tanh', padding=\"same\"))\n",
    "    model.add(MaxPooling2D(pool_size=(2,2), strides=(2,2)))\n",
    "    \n",
    "    model.add(Conv2D(512, kernel_size=(3,3), activation='tanh', padding=\"same\"))\n",
    "    model.add(Conv2D(512, kernel_size=(3,3), activation='tanh', padding=\"same\"))\n",
    "    model.add(Conv2D(512, kernel_size=(3,3), activation='tanh', padding=\"same\"))\n",
    "    model.add(MaxPooling2D(pool_size=(2,2), strides=(2,2)))\n",
    "    \n",
    "    model.add(Conv2D(512, kernel_size=(3,3), activation='tanh', padding=\"same\"))\n",
    "    model.add(Conv2D(512, kernel_size=(3,3), activation='tanh', padding=\"same\"))\n",
    "    model.add(Conv2D(512, kernel_size=(3,3), activation='tanh', padding=\"same\"))\n",
    "    model.add(MaxPooling2D(pool_size=(2,2), strides=(2,2)))\n",
    "    \n",
    "    model.add(Flatten())\n",
    "    model.add(Dense(4096, activation='tanh'))\n",
    "    model.add(Dropout(0.5))\n",
    "    model.add(Dense(4096, activation='tanh'))\n",
    "    model.add(Dropout(0.5))\n",
    "    model.add(Dense(num_classes, activation = 'softmax'))\n",
    "    \n",
    "    return model"
   ]
  },
  {
   "cell_type": "code",
   "execution_count": 22,
   "id": "16a86e9b",
   "metadata": {},
   "outputs": [],
   "source": [
    "input_shape = (215,215,3)\n",
    "num_classes = 2\n",
    "model = vgg16_model(input_shape, num_classes)\n",
    "model.compile(loss='categorical_crossentropy', optimizer='adam', metrics=['accuracy'] )"
   ]
  },
  {
   "cell_type": "code",
   "execution_count": 23,
   "id": "97a5d488",
   "metadata": {},
   "outputs": [
    {
     "name": "stdout",
     "output_type": "stream",
     "text": [
      "Model: \"sequential_2\"\n",
      "_________________________________________________________________\n",
      " Layer (type)                Output Shape              Param #   \n",
      "=================================================================\n",
      " conv2d_26 (Conv2D)          (None, 215, 215, 64)      1792      \n",
      "                                                                 \n",
      " conv2d_27 (Conv2D)          (None, 215, 215, 64)      36928     \n",
      "                                                                 \n",
      " max_pooling2d_10 (MaxPoolin  (None, 107, 107, 64)     0         \n",
      " g2D)                                                            \n",
      "                                                                 \n",
      " conv2d_28 (Conv2D)          (None, 107, 107, 128)     73856     \n",
      "                                                                 \n",
      " conv2d_29 (Conv2D)          (None, 107, 107, 128)     147584    \n",
      "                                                                 \n",
      " max_pooling2d_11 (MaxPoolin  (None, 53, 53, 128)      0         \n",
      " g2D)                                                            \n",
      "                                                                 \n",
      " conv2d_30 (Conv2D)          (None, 53, 53, 256)       295168    \n",
      "                                                                 \n",
      " conv2d_31 (Conv2D)          (None, 53, 53, 256)       590080    \n",
      "                                                                 \n",
      " conv2d_32 (Conv2D)          (None, 53, 53, 256)       590080    \n",
      "                                                                 \n",
      " max_pooling2d_12 (MaxPoolin  (None, 26, 26, 256)      0         \n",
      " g2D)                                                            \n",
      "                                                                 \n",
      " conv2d_33 (Conv2D)          (None, 26, 26, 512)       1180160   \n",
      "                                                                 \n",
      " conv2d_34 (Conv2D)          (None, 26, 26, 512)       2359808   \n",
      "                                                                 \n",
      " conv2d_35 (Conv2D)          (None, 26, 26, 512)       2359808   \n",
      "                                                                 \n",
      " max_pooling2d_13 (MaxPoolin  (None, 13, 13, 512)      0         \n",
      " g2D)                                                            \n",
      "                                                                 \n",
      " conv2d_36 (Conv2D)          (None, 13, 13, 512)       2359808   \n",
      "                                                                 \n",
      " conv2d_37 (Conv2D)          (None, 13, 13, 512)       2359808   \n",
      "                                                                 \n",
      " conv2d_38 (Conv2D)          (None, 13, 13, 512)       2359808   \n",
      "                                                                 \n",
      " max_pooling2d_14 (MaxPoolin  (None, 6, 6, 512)        0         \n",
      " g2D)                                                            \n",
      "                                                                 \n",
      " flatten_2 (Flatten)         (None, 18432)             0         \n",
      "                                                                 \n",
      " dense_6 (Dense)             (None, 4096)              75501568  \n",
      "                                                                 \n",
      " dropout_4 (Dropout)         (None, 4096)              0         \n",
      "                                                                 \n",
      " dense_7 (Dense)             (None, 4096)              16781312  \n",
      "                                                                 \n",
      " dropout_5 (Dropout)         (None, 4096)              0         \n",
      "                                                                 \n",
      " dense_8 (Dense)             (None, 2)                 8194      \n",
      "                                                                 \n",
      "=================================================================\n",
      "Total params: 107,005,762\n",
      "Trainable params: 107,005,762\n",
      "Non-trainable params: 0\n",
      "_________________________________________________________________\n"
     ]
    }
   ],
   "source": [
    "model.summary()"
   ]
  },
  {
   "cell_type": "code",
   "execution_count": null,
   "id": "a05acc67",
   "metadata": {},
   "outputs": [
    {
     "name": "stdout",
     "output_type": "stream",
     "text": [
      "Epoch 1/10\n",
      "11/29 [==========>...................] - ETA: 52:39 - loss: 10.5120 - accuracy: 0.5909"
     ]
    }
   ],
   "source": [
    "model.fit(train_generator, steps_per_epoch=len(train_generator), epochs=10)"
   ]
  },
  {
   "cell_type": "code",
   "execution_count": null,
   "id": "3ded9c74",
   "metadata": {},
   "outputs": [],
   "source": []
  }
 ],
 "metadata": {
  "kernelspec": {
   "display_name": "Python 3 (ipykernel)",
   "language": "python",
   "name": "python3"
  },
  "language_info": {
   "codemirror_mode": {
    "name": "ipython",
    "version": 3
   },
   "file_extension": ".py",
   "mimetype": "text/x-python",
   "name": "python",
   "nbconvert_exporter": "python",
   "pygments_lexer": "ipython3",
   "version": "3.9.13"
  }
 },
 "nbformat": 4,
 "nbformat_minor": 5
}
