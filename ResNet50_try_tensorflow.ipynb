{
 "cells": [
  {
   "cell_type": "code",
   "execution_count": 1,
   "id": "cf7ad001",
   "metadata": {},
   "outputs": [],
   "source": [
    "import numpy as np\n",
    "import pandas as pd\n",
    "from tensorflow.keras.preprocessing.image import ImageDataGenerator\n",
    "import tensorflow as tf\n",
    "from tensorflow.keras.models import Sequential\n",
    "from tensorflow.keras.layers import Conv2D, MaxPooling2D, Flatten, Dense, Dropout\n",
    "from tensorflow.keras.preprocessing.image import load_img\n",
    "from tensorflow.keras.applications.resnet50 import ResNet50\n",
    "from tensorflow.keras.layers import Input"
   ]
  },
  {
   "cell_type": "code",
   "execution_count": 2,
   "id": "4f448d69",
   "metadata": {},
   "outputs": [],
   "source": [
    "# Load the ResNet50 model\n",
    "input_tensor = Input(shape=(215, 215, 3))\n",
    "resnet_model = ResNet50(weights='imagenet', include_top=False, input_tensor=input_tensor)\n",
    "\n",
    "# Freeze the layers in the base model so that they are not trained\n",
    "for layer in resnet_model.layers:\n",
    "    layer.trainable = False"
   ]
  },
  {
   "cell_type": "code",
   "execution_count": 3,
   "id": "a6d261af",
   "metadata": {},
   "outputs": [],
   "source": [
    "# Define a new model that includes the base ResNet50 model as well as a new output layer\n",
    "x = Flatten()(resnet_model.output)\n",
    "x = Dense(128, activation='relu')(x)\n",
    "x = Dropout(0.5)(x)\n",
    "x = Dense(64, activation='relu')(x)\n",
    "x = Dropout(0.5)(x)\n",
    "output = Dense(2, activation='softmax')(x)\n",
    "model = tf.keras.models.Model(inputs=resnet_model.input, outputs=output)"
   ]
  },
  {
   "cell_type": "code",
   "execution_count": null,
   "id": "51c335e2",
   "metadata": {},
   "outputs": [],
   "source": [
    "# Compile the model\n",
    "model.compile(loss='categorical_crossentropy', optimizer='adam', metrics=['accuracy'])\n",
    "\n",
    "# Define data generators for the training and testing data\n",
    "train_datagen = ImageDataGenerator(rescale=1.0/255)\n",
    "test_datagen = ImageDataGenerator(rescale=1.0/255)\n",
    "train_generator = train_datagen.flow_from_directory('C:/Users/Kranti/Desktop/EE541_project/archive/Training/', \n",
    "                                                    batch_size=200, \n",
    "                                                    target_size=(215,215), \n",
    "                                                    class_mode='categorical', \n",
    "                                                    classes=['notumor', 'tumor'])\n",
    "test_generator = test_datagen.flow_from_directory('C:/Users/Kranti/Desktop/EE541_project/archive/Testing/', \n",
    "                                                  batch_size=200, \n",
    "                                                  target_size=(215,215), \n",
    "                                                  class_mode='categorical', \n",
    "                                                  classes=['notumor', 'tumor'])\n",
    "\n",
    "# Train the model\n",
    "history = model.fit(train_generator, epochs=10, validation_data=test_generator)\n",
    "\n",
    "# Evaluate the model on the test dataset\n",
    "loss, accuracy = model.evaluate(test_generator)\n",
    "\n",
    "# Print the test accuracy\n",
    "print('Test accuracy:', accuracy)"
   ]
  }
 ],
 "metadata": {
  "kernelspec": {
   "display_name": "Python 3 (ipykernel)",
   "language": "python",
   "name": "python3"
  },
  "language_info": {
   "codemirror_mode": {
    "name": "ipython",
    "version": 3
   },
   "file_extension": ".py",
   "mimetype": "text/x-python",
   "name": "python",
   "nbconvert_exporter": "python",
   "pygments_lexer": "ipython3",
   "version": "3.9.13"
  }
 },
 "nbformat": 4,
 "nbformat_minor": 5
}
